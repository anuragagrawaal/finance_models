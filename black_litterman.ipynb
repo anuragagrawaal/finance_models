{
 "cells": [
  {
   "cell_type": "code",
   "execution_count": 1,
   "metadata": {},
   "outputs": [],
   "source": [
    "import numpy as np\n",
    "import matplotlib.pyplot as plt\n",
    "import math as math\n",
    "import statsmodels.tsa.stattools as sm\n",
    "import seaborn as sns\n",
    "import random\n",
    "import datetime\n",
    "from scipy.stats import norm\n",
    "import pandas as pd\n",
    "import scipy.stats as stat\n",
    "from IPython.display import Latex"
   ]
  },
  {
   "cell_type": "code",
   "execution_count": 181,
   "metadata": {},
   "outputs": [],
   "source": [
    "class black_litterman:\n",
    "    def __init__(self, R, P):\n",
    "        self.R = R\n",
    "        self.P = P\n",
    "    def fit(self, Mu = None, Sigma = None, Views = None, tau = 1):\n",
    "        if Mu == None:\n",
    "          Mu = np.transpose( np.asmatrix(pd.DataFrame.mean(self.R)))\n",
    "        if len(self.R.columns) != len(Mu):\n",
    "            raise SystemExit('Length of Mu must equal R')\n",
    "        if Sigma == None:\n",
    "            Sigma = self.R.cov()\n",
    "        if len(self.R.cov()) & len(np.transpose(self.R.cov())) != len(self.R.columns):\n",
    "            raise SystemExit('Dimensions of Sigma must equal Dimensions of R')\n",
    "        Omega = tau * self.P.dot(self.R.cov()).dot(np.transpose(self.P))\n",
    "        if Views == None:\n",
    "            Views = np.diagonal(Omega)\n",
    "        tot_wgt = np.linalg.inv((tau * np.linalg.inv(S))+np.transpose(self.P).dot(np.linalg.inv(Omega)).dot(self.P))\n",
    "        wgt_avg = (tau * np.linalg.inv(S)).dot(Mu) + np.transpose(self.P).dot(np.linalg.inv(Omega)).dot(v)\n",
    "        return(tot_wgt.dot(wgt_avg))"
   ]
  },
  {
   "cell_type": "code",
   "execution_count": 189,
   "metadata": {
    "scrolled": true
   },
   "outputs": [
    {
     "data": {
      "text/plain": [
       "matrix([[ 0.00963507],\n",
       "        [-0.02032279],\n",
       "        [ 0.02955088]])"
      ]
     },
     "execution_count": 189,
     "metadata": {},
     "output_type": "execute_result"
    }
   ],
   "source": [
    "import pandas_datareader as pdr\n",
    "aapl = pdr.get_data_yahoo('AAPL')\n",
    "msft = pdr.get_data_yahoo('MSFT')\n",
    "tsla = pdr.get_data_yahoo('TSLA')\n",
    "port = pd.DataFrame({'aapl': pd.DataFrame.reset_index(aapl).iloc[:,6], 'msft':pd.DataFrame.reset_index(msft).iloc[:,6],\n",
    "                   'tsla': pd.DataFrame.reset_index(tsla).iloc[:,6]})\n",
    "port_ret = port.pct_change().dropna()\n",
    "P = np.matrix([[-1, 0, 1],[0,-1,1]])\n",
    "Views = np.matrix([[0.02],\n",
    "               [0.05]])\n",
    "bl = black_litterman(R = port_ret, P = P)\n",
    "bl.fit()"
   ]
  }
 ],
 "metadata": {
  "kernelspec": {
   "display_name": "Python 3",
   "language": "python",
   "name": "python3"
  },
  "language_info": {
   "codemirror_mode": {
    "name": "ipython",
    "version": 3
   },
   "file_extension": ".py",
   "mimetype": "text/x-python",
   "name": "python",
   "nbconvert_exporter": "python",
   "pygments_lexer": "ipython3",
   "version": "3.8.5"
  }
 },
 "nbformat": 4,
 "nbformat_minor": 4
}
